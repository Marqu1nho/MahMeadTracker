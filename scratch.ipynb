{
 "cells": [
  {
   "cell_type": "code",
   "execution_count": 2,
   "metadata": {},
   "outputs": [],
   "source": [
    "from dataclasses import dataclass\n",
    "from functools import cached_property\n",
    "from pathlib import Path\n",
    "import sqlite3\n",
    "import yaml\n",
    "conn = sqlite3.connect('mah_dope_meads.db')"
   ]
  },
  {
   "cell_type": "code",
   "execution_count": 3,
   "metadata": {},
   "outputs": [],
   "source": [
    "@dataclass\n",
    "class MeadTracker:\n",
    "\n",
    "    db_name: str = \"mah_dope_meads.db\"\n",
    "\n",
    "    def __post_init__(self) -> None:\n",
    "        \"\"\"\n",
    "        creates conn object\n",
    "        \"\"\"\n",
    "        self.conn: sqlite3.Connection = sqlite3.connect(self.db_name)\n",
    "        self.run_init_cmds()\n",
    "\n",
    "    @cached_property\n",
    "    def cfg(self) -> dict:\n",
    "        \"\"\"\n",
    "        captures cfg yaml\n",
    "        \"\"\"\n",
    "        return yaml.safe_load(Path(\"cfg.yml\").read_text())\n",
    "\n",
    "    @property\n",
    "    def init_cmds(self) -> None:\n",
    "        \"\"\"\n",
    "        returns all ddl_cmds from cfg\n",
    "        \"\"\"\n",
    "        # capture all init_statements if there is actual text (not just placedholders)\n",
    "        cmds: dict = self.cfg.get(\"sql\", {}).get('init_statements',{})\n",
    "        valid: dict = [c for c in cmds.values() if c]\n",
    "        return valid\n",
    "\n",
    "    def run_sql(self, cmd: str) -> None:\n",
    "        \"\"\"\n",
    "        run and commits a command\n",
    "        \"\"\"\n",
    "        with self.conn:\n",
    "            self.conn.execute(cmd)\n",
    "\n",
    "    def run_init_cmds(self) -> None:\n",
    "        \"\"\"\n",
    "        runs all ddl commands at startup\n",
    "        because they all have `if not exists` we're golden 🤩\n",
    "        \"\"\"\n",
    "        for cmd in self.init_cmds:\n",
    "            print(cmd)\n",
    "            self.run_sql(cmd)"
   ]
  },
  {
   "cell_type": "code",
   "execution_count": 4,
   "metadata": {},
   "outputs": [
    {
     "name": "stdout",
     "output_type": "stream",
     "text": [
      "create table if not exists meads (\n",
      "  id integer primary key\n",
      "  , mead_name string not null\n",
      "  , start_date date not null\n",
      "  , yeast_used string not null\n",
      "  , sugar_source string not null\n",
      "  , starting_gravity float\n",
      "  , potential_abv float\n",
      "  , yield_in_oz float\n",
      "  , unique(Mead_name, start_date)\n",
      ");\n",
      "\n",
      "create table if not exists mead_notes (\n",
      "  id integer primary key\n",
      "  , mead_id integer not null\n",
      "  , note string not null\n",
      "  , note_date date not null\n",
      "  , foreign key(mead_id) references meads(id)\n",
      ");\n",
      "\n",
      "create table if not exists activity (\n",
      "  id integer primary key\n",
      "  , mead_id integer not null\n",
      "  , act_name string not null\n",
      "  , act_date date not null\n",
      "  , check (act_name in ('started','racked','bottled','modified','other'))\n",
      "  , foreign key(mead_id) references meads(id)\n",
      ");\n",
      "\n",
      "create table if not exists abv_measurements (\n",
      "  id integer primary  key\n",
      "  , mead_id integer not null\n",
      "  , sample_date date not null\n",
      "  , curr_gravity float not null\n",
      "  , curr_abv float not null\n",
      "  , days_since_start int\n",
      "  , pct_to_pot_abv float\n",
      "  , foreign key(mead_id) references meads(id)\n",
      ");\n",
      "\n",
      "create table if not exists ingredient_costs (\n",
      "  id integer primary  key\n",
      "  , mead_id integer not null\n",
      "  , type string not null\n",
      "  , ingredient string not null\n",
      "  , cost float not null\n",
      "  , grams float not null\n",
      "  , lbs float\n",
      "  , check (type in ('sugar_src','flavoring','back_sweeten','yeast'))\n",
      "  , foreign key(mead_id) references meads(id)\n",
      "  );\n",
      "\n"
     ]
    }
   ],
   "source": [
    "md = MeadTracker()\n",
    "md.run_init_cmds()\n"
   ]
  },
  {
   "cell_type": "code",
   "execution_count": null,
   "metadata": {},
   "outputs": [],
   "source": []
  }
 ],
 "metadata": {
  "kernelspec": {
   "display_name": "sqlite3-BIwWU40_",
   "language": "python",
   "name": "python3"
  },
  "language_info": {
   "codemirror_mode": {
    "name": "ipython",
    "version": 3
   },
   "file_extension": ".py",
   "mimetype": "text/x-python",
   "name": "python",
   "nbconvert_exporter": "python",
   "pygments_lexer": "ipython3",
   "version": "3.11.0"
  }
 },
 "nbformat": 4,
 "nbformat_minor": 2
}
