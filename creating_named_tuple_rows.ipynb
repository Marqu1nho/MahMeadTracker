{
 "cells": [
  {
   "cell_type": "code",
   "execution_count": 1,
   "metadata": {},
   "outputs": [],
   "source": [
    "from collections import namedtuple\n",
    "\n",
    "def nt_factory(crs,row):\n",
    "    hdrs = [h[0] for h in crs.description]\n",
    "    return namedtuple('SQLite3Row',hdrs)(*row)"
   ]
  },
  {
   "cell_type": "code",
   "execution_count": 2,
   "metadata": {},
   "outputs": [],
   "source": [
    "import sqlite3\n",
    "\n",
    "conn = sqlite3.connect('gta.db')\n",
    "conn.row_factory = nt_factory\n",
    "crs = conn.cursor()\n"
   ]
  },
  {
   "cell_type": "code",
   "execution_count": 3,
   "metadata": {},
   "outputs": [
    {
     "data": {
      "text/plain": [
       "<sqlite3.Cursor at 0x1089c1840>"
      ]
     },
     "execution_count": 3,
     "metadata": {},
     "output_type": "execute_result"
    }
   ],
   "source": [
    "\n",
    "crs.executescript('''\n",
    "create table if not exists gta (\n",
    "    yr\n",
    "    , nm\n",
    "    , city\n",
    ");\n",
    "''')\n"
   ]
  },
  {
   "cell_type": "code",
   "execution_count": 4,
   "metadata": {},
   "outputs": [
    {
     "data": {
      "text/plain": [
       "<sqlite3.Cursor at 0x1089c1840>"
      ]
     },
     "execution_count": 4,
     "metadata": {},
     "output_type": "execute_result"
    }
   ],
   "source": [
    "gta_games = [\n",
    "    (1997, \"Grand Theft Auto\", \"Liberty City, Vice City, San Andreas\"),\n",
    "    (1999, \"Grand Theft Auto 2\", \"Anywhere City\"),\n",
    "    (2001, \"Grand Theft Auto III\", \"Liberty City\"),\n",
    "    (2002, \"Grand Theft Auto: Vice City\", \"Vice City\"),\n",
    "    (2004, \"Grand Theft Auto: San Andreas\", \"San Andreas\"),\n",
    "    (2008, \"Grand Theft Auto IV\", \"Liberty City\"),\n",
    "    (2013, \"Grand Theft Auto V\", \"Los Santos\")\n",
    "]\n",
    "sql = '''\n",
    "insert into gta (yr,nm,city) values(?,?,?)'''\n",
    "crs.executemany(sql,gta_games)"
   ]
  },
  {
   "cell_type": "code",
   "execution_count": 9,
   "metadata": {},
   "outputs": [
    {
     "data": {
      "text/plain": [
       "'2024-04-30 02:19:07'"
      ]
     },
     "execution_count": 9,
     "metadata": {},
     "output_type": "execute_result"
    }
   ],
   "source": [
    "crs.execute('select *, datetime() as dttm from gta')\n",
    "crs.fetchall()[0].dttm"
   ]
  },
  {
   "cell_type": "code",
   "execution_count": 18,
   "metadata": {},
   "outputs": [],
   "source": [
    "conn.commit()"
   ]
  },
  {
   "cell_type": "code",
   "execution_count": 19,
   "metadata": {},
   "outputs": [],
   "source": [
    "conn.close()"
   ]
  },
  {
   "cell_type": "code",
   "execution_count": null,
   "metadata": {},
   "outputs": [],
   "source": []
  }
 ],
 "metadata": {
  "kernelspec": {
   "display_name": "sqlite3-BIwWU40_",
   "language": "python",
   "name": "python3"
  },
  "language_info": {
   "codemirror_mode": {
    "name": "ipython",
    "version": 3
   },
   "file_extension": ".py",
   "mimetype": "text/x-python",
   "name": "python",
   "nbconvert_exporter": "python",
   "pygments_lexer": "ipython3",
   "version": "3.11.0"
  }
 },
 "nbformat": 4,
 "nbformat_minor": 2
}
