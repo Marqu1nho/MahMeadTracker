{
 "cells": [
  {
   "cell_type": "code",
   "execution_count": 12,
   "metadata": {},
   "outputs": [],
   "source": [
    "import apsw\n",
    "from LayerTools import S3Parser\n",
    "from io import BytesIO\n"
   ]
  },
  {
   "cell_type": "code",
   "execution_count": null,
   "metadata": {},
   "outputs": [],
   "source": []
  },
  {
   "cell_type": "code",
   "execution_count": 18,
   "metadata": {},
   "outputs": [],
   "source": [
    "\n",
    "conn = apsw.Connection(':memory:')\n",
    "with conn as c:\n",
    "    c.execute('''\n",
    "        CREATE TABLE if not exists records\n",
    "        (id INTEGER PRIMARY KEY, name TEXT, age INTEGER)\n",
    "    ''')\n",
    "    c.execute(\"INSERT INTO records (name, age) VALUES ('Alice', 21)\")\n",
    "    c.execute(\"INSERT INTO records (name, age) VALUES ('Marco', 21)\")\n",
    "    c.execute(\"INSERT INTO records (name, age) VALUES ('Bob', 25)\")\n"
   ]
  },
  {
   "cell_type": "code",
   "execution_count": 19,
   "metadata": {},
   "outputs": [
    {
     "data": {
      "text/plain": [
       "[(1, 'Alice', 21), (2, 'Marco', 21), (3, 'Bob', 25)]"
      ]
     },
     "execution_count": 19,
     "metadata": {},
     "output_type": "execute_result"
    }
   ],
   "source": [
    "conn.execute('select * from records').fetchall()"
   ]
  },
  {
   "cell_type": "code",
   "execution_count": 28,
   "metadata": {},
   "outputs": [],
   "source": [
    "db_bytes_obj = BytesIO(conn.serialize('main'))"
   ]
  },
  {
   "cell_type": "code",
   "execution_count": 30,
   "metadata": {},
   "outputs": [],
   "source": [
    "S3Parser.upload_fileobj(db_bytes_obj,'scipher-snowflake','dev/general/inbound/sqlite-test/bkup.db')"
   ]
  }
 ],
 "metadata": {
  "kernelspec": {
   "display_name": "sqlite3-BIwWU40_",
   "language": "python",
   "name": "python3"
  },
  "language_info": {
   "codemirror_mode": {
    "name": "ipython",
    "version": 3
   },
   "file_extension": ".py",
   "mimetype": "text/x-python",
   "name": "python",
   "nbconvert_exporter": "python",
   "pygments_lexer": "ipython3",
   "version": "3.11.0"
  }
 },
 "nbformat": 4,
 "nbformat_minor": 2
}
